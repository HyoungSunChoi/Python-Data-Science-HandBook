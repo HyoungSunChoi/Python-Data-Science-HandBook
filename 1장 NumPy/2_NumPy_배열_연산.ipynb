{
  "nbformat": 4,
  "nbformat_minor": 0,
  "metadata": {
    "colab": {
      "name": "2. NumPy 배열 연산.ipynb",
      "provenance": [],
      "collapsed_sections": [],
      "toc_visible": true
    },
    "kernelspec": {
      "name": "python3",
      "display_name": "Python 3"
    },
    "language_info": {
      "name": "python"
    }
  },
  "cells": [
    {
      "cell_type": "markdown",
      "metadata": {
        "id": "BfigWEN77x9Z"
      },
      "source": [
        "### UFuncs 소개"
      ]
    },
    {
      "cell_type": "code",
      "metadata": {
        "colab": {
          "base_uri": "https://localhost:8080/"
        },
        "id": "7J9KGuHF9k8h",
        "outputId": "71d9f71f-92d3-4eb6-e859-fe1dca9df5a8"
      },
      "source": [
        "import numpy as np\n",
        "np.random.seed(0)\n",
        "\n",
        "def compute_reciprocals(values):\n",
        "  output = np.empty(len(values))\n",
        "  for i in range(len(values)):\n",
        "    output[i]=1.0/values[i]\n",
        "  return output\n",
        "\n",
        "values = np.random.randint(1,10,size=5)\n",
        "compute_reciprocals(values)"
      ],
      "execution_count": 1,
      "outputs": [
        {
          "output_type": "execute_result",
          "data": {
            "text/plain": [
              "array([0.16666667, 1.        , 0.25      , 0.25      , 0.125     ])"
            ]
          },
          "metadata": {
            "tags": []
          },
          "execution_count": 1
        }
      ]
    },
    {
      "cell_type": "code",
      "metadata": {
        "colab": {
          "base_uri": "https://localhost:8080/"
        },
        "id": "Mm4T53_g94SL",
        "outputId": "130edd78-613a-4a79-ed8e-4c9a52cc9915"
      },
      "source": [
        "big_array = np.random.randint(1,100, size=1000000)\n",
        "%timeit compute_reciprocals(big_array)"
      ],
      "execution_count": 3,
      "outputs": [
        {
          "output_type": "stream",
          "text": [
            "1 loop, best of 5: 2.06 s per loop\n"
          ],
          "name": "stdout"
        }
      ]
    },
    {
      "cell_type": "code",
      "metadata": {
        "colab": {
          "base_uri": "https://localhost:8080/"
        },
        "id": "aLYlVRLR-B1k",
        "outputId": "cad3e1de-c252-4b3b-b983-91c6add90a51"
      },
      "source": [
        "print(compute_reciprocals(values))\n",
        "print(1.0/values)\n",
        "%timeit(1.0/big_array)"
      ],
      "execution_count": 5,
      "outputs": [
        {
          "output_type": "stream",
          "text": [
            "[0.16666667 1.         0.25       0.25       0.125     ]\n",
            "[0.16666667 1.         0.25       0.25       0.125     ]\n",
            "1000 loops, best of 5: 1.51 ms per loop\n"
          ],
          "name": "stdout"
        }
      ]
    },
    {
      "cell_type": "markdown",
      "metadata": {
        "id": "sWQDEBds-cxM"
      },
      "source": [
        "### NumPy 유니버설 함수(UFuncs)"
      ]
    },
    {
      "cell_type": "markdown",
      "metadata": {
        "id": "uyS3l8kO-vcG"
      },
      "source": [
        "#### 배열 산술 연산"
      ]
    },
    {
      "cell_type": "code",
      "metadata": {
        "colab": {
          "base_uri": "https://localhost:8080/"
        },
        "id": "YdRxlrm0-w84",
        "outputId": "6574f9f6-a818-44ca-a727-b9e946afbd9f"
      },
      "source": [
        "x=np.arange(4)\n",
        "print(\" x     =\",x)\n",
        "print(\" x + 5 =\",x+5)\n",
        "print(\" x - 5 =\",x-5)\n",
        "print(\" x * 2 =\",x*2)\n",
        "print(\" x / 2 =\",x/2)\n",
        "print(\" x // 2 =\",x//2)"
      ],
      "execution_count": 7,
      "outputs": [
        {
          "output_type": "stream",
          "text": [
            " x     = [0 1 2 3]\n",
            " x + 5 = [5 6 7 8]\n",
            " x - 5 = [-5 -4 -3 -2]\n",
            " x * 2 = [0 2 4 6]\n",
            " x / 2 = [0.  0.5 1.  1.5]\n",
            " x // 2 = [0 0 1 1]\n"
          ],
          "name": "stdout"
        }
      ]
    },
    {
      "cell_type": "markdown",
      "metadata": {
        "id": "k33ii17I_DvC"
      },
      "source": [
        "#### 절댓값 함수"
      ]
    },
    {
      "cell_type": "code",
      "metadata": {
        "colab": {
          "base_uri": "https://localhost:8080/"
        },
        "id": "qN6jKuPp_SXE",
        "outputId": "727a425a-4359-48f1-bba1-526826e6f5d7"
      },
      "source": [
        "x=np.array([-2,-1,0,1,2])\n",
        "abs(x)"
      ],
      "execution_count": 8,
      "outputs": [
        {
          "output_type": "execute_result",
          "data": {
            "text/plain": [
              "array([2, 1, 0, 1, 2])"
            ]
          },
          "metadata": {
            "tags": []
          },
          "execution_count": 8
        }
      ]
    },
    {
      "cell_type": "code",
      "metadata": {
        "colab": {
          "base_uri": "https://localhost:8080/"
        },
        "id": "pWlLjPKe_WCN",
        "outputId": "b974f36f-8d94-4032-8369-790266691573"
      },
      "source": [
        "np.absolute(x)"
      ],
      "execution_count": 9,
      "outputs": [
        {
          "output_type": "execute_result",
          "data": {
            "text/plain": [
              "array([2, 1, 0, 1, 2])"
            ]
          },
          "metadata": {
            "tags": []
          },
          "execution_count": 9
        }
      ]
    },
    {
      "cell_type": "code",
      "metadata": {
        "colab": {
          "base_uri": "https://localhost:8080/"
        },
        "id": "7cf7Ocgq_XRr",
        "outputId": "3939bcae-db03-4e89-86f3-0000f8e41d67"
      },
      "source": [
        "np.abs(x)"
      ],
      "execution_count": 10,
      "outputs": [
        {
          "output_type": "execute_result",
          "data": {
            "text/plain": [
              "array([2, 1, 0, 1, 2])"
            ]
          },
          "metadata": {
            "tags": []
          },
          "execution_count": 10
        }
      ]
    },
    {
      "cell_type": "markdown",
      "metadata": {
        "id": "A_5gYNcL_YKd"
      },
      "source": [
        "#### 삼각함수"
      ]
    },
    {
      "cell_type": "code",
      "metadata": {
        "colab": {
          "base_uri": "https://localhost:8080/"
        },
        "id": "iCu5XeWr_b_q",
        "outputId": "5880dcc2-16a3-40d2-e920-aca107690526"
      },
      "source": [
        "theta = np.linspace(0, np.pi, 3)\n",
        "print(\"theta     =\",theta)\n",
        "print(\"sin(theta)=\",np.sin(theta))\n",
        "print(\"con(theta)=\",np.cos(theta))\n",
        "print(\"tan(theta)=\",np.tan(theta))"
      ],
      "execution_count": 11,
      "outputs": [
        {
          "output_type": "stream",
          "text": [
            "theta     = [0.         1.57079633 3.14159265]\n",
            "sin(theta)= [0.0000000e+00 1.0000000e+00 1.2246468e-16]\n",
            "con(theta)= [ 1.000000e+00  6.123234e-17 -1.000000e+00]\n",
            "tan(theta)= [ 0.00000000e+00  1.63312394e+16 -1.22464680e-16]\n"
          ],
          "name": "stdout"
        }
      ]
    },
    {
      "cell_type": "markdown",
      "metadata": {
        "id": "qM8q0e0Q_rXN"
      },
      "source": [
        "#### 지수와 로그"
      ]
    },
    {
      "cell_type": "code",
      "metadata": {
        "colab": {
          "base_uri": "https://localhost:8080/"
        },
        "id": "FZcB8fOn_ubA",
        "outputId": "53b9940c-36ab-4e6c-c1e0-7d67e249c900"
      },
      "source": [
        "x=[1,2,3]\n",
        "print(\"x    =\",x)\n",
        "print(\"e^x  =\",np.exp(x))\n",
        "print(\"2^x  =\",np.exp2(x))\n",
        "print(\"3^x  =\",np.power(3,x))"
      ],
      "execution_count": 12,
      "outputs": [
        {
          "output_type": "stream",
          "text": [
            "x    = [1, 2, 3]\n",
            "e^x  = [ 2.71828183  7.3890561  20.08553692]\n",
            "2^x  = [2. 4. 8.]\n",
            "3^x  = [ 3  9 27]\n"
          ],
          "name": "stdout"
        }
      ]
    },
    {
      "cell_type": "code",
      "metadata": {
        "colab": {
          "base_uri": "https://localhost:8080/"
        },
        "id": "VVUDzMnV_8-Q",
        "outputId": "f11ff063-74bc-4a8d-ae9b-2372109e8ff3"
      },
      "source": [
        "x=[1,2,3,4]\n",
        "print(\"x        =\",x)\n",
        "print(\"ln(x)    =\",np.log(x))\n",
        "print(\"log2(x)  =\", np.log2(x))\n",
        "print(\"log10(x) =\", np.log10(x))"
      ],
      "execution_count": 14,
      "outputs": [
        {
          "output_type": "stream",
          "text": [
            "x        = [1, 2, 3, 4]\n",
            "ln(x)    = [0.         0.69314718 1.09861229 1.38629436]\n",
            "log2(x)  = [0.        1.        1.5849625 2.       ]\n",
            "log10(x) = [0.         0.30103    0.47712125 0.60205999]\n"
          ],
          "name": "stdout"
        }
      ]
    },
    {
      "cell_type": "markdown",
      "metadata": {
        "id": "HeSVMceTAfAQ"
      },
      "source": [
        "#### 고급 UFunc 기능"
      ]
    },
    {
      "cell_type": "markdown",
      "metadata": {
        "id": "6KZ8qB0TAqlH"
      },
      "source": [
        "##### 1. 출력지정\n",
        "대규모 연산인 경우, 연산 결과를 저장할 배열을 지정하는 것이 유용할 때가 있다."
      ]
    },
    {
      "cell_type": "code",
      "metadata": {
        "colab": {
          "base_uri": "https://localhost:8080/"
        },
        "id": "ktCw4rAYAv8h",
        "outputId": "206d56b9-765e-4b7d-8036-29c88b5b3b64"
      },
      "source": [
        "x= np.arange(5)\n",
        "y = np.empty(5)\n",
        "np.multiply(x, 10, out=y)\n",
        "print(y)"
      ],
      "execution_count": 15,
      "outputs": [
        {
          "output_type": "stream",
          "text": [
            "[ 0. 10. 20. 30. 40.]\n"
          ],
          "name": "stdout"
        }
      ]
    },
    {
      "cell_type": "code",
      "metadata": {
        "colab": {
          "base_uri": "https://localhost:8080/"
        },
        "id": "mYJ_T5V-A7FF",
        "outputId": "6da1d693-8358-4d2f-8e77-0db3ca0bdab9"
      },
      "source": [
        "# 배열 뷰와 함께 사용하기\n",
        "y=np.zeros(10)\n",
        "np.power(2, x, out=y[::2])\n",
        "print(y)"
      ],
      "execution_count": 16,
      "outputs": [
        {
          "output_type": "stream",
          "text": [
            "[ 1.  0.  2.  0.  4.  0.  8.  0. 16.  0.]\n"
          ],
          "name": "stdout"
        }
      ]
    },
    {
      "cell_type": "markdown",
      "metadata": {
        "id": "STsyzzTXBC8E"
      },
      "source": [
        "##### 2. 집계\n",
        "이항 ufuncs 의 경우 배열을 특정 연산으로 축소하고자 한다면 <b>reduce</b> 메서드 활용"
      ]
    },
    {
      "cell_type": "code",
      "metadata": {
        "colab": {
          "base_uri": "https://localhost:8080/"
        },
        "id": "vY3W8HJTBHnD",
        "outputId": "fcd02666-6515-4f8b-9ff4-b9b19bb092e7"
      },
      "source": [
        "# 모든 요소의 합 반환하기\n",
        "x=np.arange(1,6)\n",
        "np.add.reduce(x)"
      ],
      "execution_count": 21,
      "outputs": [
        {
          "output_type": "execute_result",
          "data": {
            "text/plain": [
              "15"
            ]
          },
          "metadata": {
            "tags": []
          },
          "execution_count": 21
        }
      ]
    },
    {
      "cell_type": "code",
      "metadata": {
        "colab": {
          "base_uri": "https://localhost:8080/"
        },
        "id": "CFT2fyh8BZfz",
        "outputId": "c8a34e2d-80b5-4b34-f724-1f2a2c5c5483"
      },
      "source": [
        "# 모든 요소의 곱 반환하기\n",
        "x= np.arange(1,6)\n",
        "np.multiply.reduce(x)"
      ],
      "execution_count": 22,
      "outputs": [
        {
          "output_type": "execute_result",
          "data": {
            "text/plain": [
              "120"
            ]
          },
          "metadata": {
            "tags": []
          },
          "execution_count": 22
        }
      ]
    },
    {
      "cell_type": "code",
      "metadata": {
        "colab": {
          "base_uri": "https://localhost:8080/"
        },
        "id": "RRGGQ1CCBuPP",
        "outputId": "272c0798-9f34-4f0e-c2aa-e3fc2f068ee9"
      },
      "source": [
        "# 계산의 중간과정을 저장하고 싶으면 accmulate 사용\n",
        "np.add.accumulate(x)"
      ],
      "execution_count": 23,
      "outputs": [
        {
          "output_type": "execute_result",
          "data": {
            "text/plain": [
              "array([ 1,  3,  6, 10, 15])"
            ]
          },
          "metadata": {
            "tags": []
          },
          "execution_count": 23
        }
      ]
    },
    {
      "cell_type": "code",
      "metadata": {
        "colab": {
          "base_uri": "https://localhost:8080/"
        },
        "id": "CyDYwS6LB1be",
        "outputId": "27efce72-bdfb-46e2-ae79-18c570011545"
      },
      "source": [
        "np.multiply.accumulate(x)"
      ],
      "execution_count": 24,
      "outputs": [
        {
          "output_type": "execute_result",
          "data": {
            "text/plain": [
              "array([  1,   2,   6,  24, 120])"
            ]
          },
          "metadata": {
            "tags": []
          },
          "execution_count": 24
        }
      ]
    },
    {
      "cell_type": "markdown",
      "metadata": {
        "id": "4tSRs3uRB34v"
      },
      "source": [
        "##### 3. 외적"
      ]
    },
    {
      "cell_type": "code",
      "metadata": {
        "colab": {
          "base_uri": "https://localhost:8080/"
        },
        "id": "-uZI0rSfCAFr",
        "outputId": "18e19e74-ad5c-4f66-d8a3-50735e265b73"
      },
      "source": [
        "x=np.arange(1,6)\n",
        "np.multiply.outer(x,x)"
      ],
      "execution_count": 2,
      "outputs": [
        {
          "output_type": "execute_result",
          "data": {
            "text/plain": [
              "array([[ 1,  2,  3,  4,  5],\n",
              "       [ 2,  4,  6,  8, 10],\n",
              "       [ 3,  6,  9, 12, 15],\n",
              "       [ 4,  8, 12, 16, 20],\n",
              "       [ 5, 10, 15, 20, 25]])"
            ]
          },
          "metadata": {
            "tags": []
          },
          "execution_count": 2
        }
      ]
    },
    {
      "cell_type": "code",
      "metadata": {
        "id": "oS9VepE6CGpE"
      },
      "source": [
        ""
      ],
      "execution_count": null,
      "outputs": []
    }
  ]
}