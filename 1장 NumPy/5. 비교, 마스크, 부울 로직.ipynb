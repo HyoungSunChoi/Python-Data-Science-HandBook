{
 "cells": [
  {
   "cell_type": "markdown",
   "id": "da1badf0",
   "metadata": {},
   "source": [
    "###  NumPy 배열 내 값을 검사, 조작하는 데 사용\n",
    "\n",
    "- 마스킹\n",
    "    - 특정 기준에 따라 배열의 값을 추출하거나 수정, 계산 , 조작 시 사용"
   ]
  },
  {
   "cell_type": "markdown",
   "id": "a8cc480e",
   "metadata": {},
   "source": [
    "#### 예제 : 비온 날 세기"
   ]
  },
  {
   "cell_type": "code",
   "execution_count": 1,
   "id": "8e6b2f1a",
   "metadata": {},
   "outputs": [
    {
     "data": {
      "text/plain": [
       "(365,)"
      ]
     },
     "execution_count": 1,
     "metadata": {},
     "output_type": "execute_result"
    }
   ],
   "source": [
    "import pandas as pd\n",
    "rainfall = pd.read_csv('data/Seattle2014.csv')['PRCP'].values\n",
    "inches = rainfall / 254\n",
    "inches.shape"
   ]
  },
  {
   "cell_type": "code",
   "execution_count": 7,
   "id": "396c4f1e",
   "metadata": {},
   "outputs": [
    {
     "data": {
      "text/plain": [
       "(array([245.,  14.,  13.,  17.,   8.,   6.,   5.,   6.,   4.,   3.,   7.,\n",
       "          6.,   3.,   3.,   3.,   4.,   4.,   2.,   4.,   0.,   0.,   1.,\n",
       "          1.,   1.,   0.,   0.,   0.,   2.,   1.,   1.,   0.,   0.,   0.,\n",
       "          0.,   0.,   0.,   0.,   0.,   0.,   1.]),\n",
       " array([0.        , 0.04596457, 0.09192913, 0.1378937 , 0.18385827,\n",
       "        0.22982283, 0.2757874 , 0.32175197, 0.36771654, 0.4136811 ,\n",
       "        0.45964567, 0.50561024, 0.5515748 , 0.59753937, 0.64350394,\n",
       "        0.6894685 , 0.73543307, 0.78139764, 0.8273622 , 0.87332677,\n",
       "        0.91929134, 0.96525591, 1.01122047, 1.05718504, 1.10314961,\n",
       "        1.14911417, 1.19507874, 1.24104331, 1.28700787, 1.33297244,\n",
       "        1.37893701, 1.42490157, 1.47086614, 1.51683071, 1.56279528,\n",
       "        1.60875984, 1.65472441, 1.70068898, 1.74665354, 1.79261811,\n",
       "        1.83858268]),\n",
       " <BarContainer object of 40 artists>)"
      ]
     },
     "execution_count": 7,
     "metadata": {},
     "output_type": "execute_result"
    },
    {
     "data": {
      "image/png": "[encoded data removed]",
      "text/plain": [
       "<Figure size 432x288 with 1 Axes>"
      ]
     },
     "metadata": {
      "needs_background": "light"
     },
     "output_type": "display_data"
    }
   ],
   "source": [
    "# 시각화\n",
    "%matplotlib inline\n",
    "import matplotlib.pyplot as plt\n",
    "import seaborn as sns\n",
    "plt.hist(inches, 40)"
   ]
  },
  {
   "cell_type": "markdown",
   "id": "b6d8eaa6",
   "metadata": {},
   "source": [
    "#### ufunc으로서의 비교 연산자"
   ]
  },
  {
   "cell_type": "code",
   "execution_count": 10,
   "id": "2d99f960",
   "metadata": {},
   "outputs": [
    {
     "data": {
      "text/plain": [
       "array([False, False, False,  True,  True])"
      ]
     },
     "execution_count": 10,
     "metadata": {},
     "output_type": "execute_result"
    }
   ],
   "source": [
    "import numpy as np\n",
    "x=np.array([1,2,3,4,5])\n",
    "x>3"
   ]
  },
  {
   "cell_type": "code",
   "execution_count": 11,
   "id": "88991d7f",
   "metadata": {},
   "outputs": [
    {
     "data": {
      "text/plain": [
       "array([False,  True, False, False, False])"
      ]
     },
     "execution_count": 11,
     "metadata": {},
     "output_type": "execute_result"
    }
   ],
   "source": [
    "(2*x ) == (x**2)"
   ]
  },
  {
   "cell_type": "markdown",
   "id": "024b8c1d",
   "metadata": {},
   "source": [
    "#### 부울 배열로 작업하기"
   ]
  },
  {
   "cell_type": "code",
   "execution_count": 17,
   "id": "023484f4",
   "metadata": {},
   "outputs": [
    {
     "data": {
      "text/plain": [
       "array([[5, 0, 3, 3],\n",
       "       [7, 9, 3, 5],\n",
       "       [2, 4, 7, 6]])"
      ]
     },
     "execution_count": 17,
     "metadata": {},
     "output_type": "execute_result"
    }
   ],
   "source": [
    "rng = np.random.RandomState(0)\n",
    "x= rng.randint(10, size=(3,4))\n",
    "x"
   ]
  },
  {
   "cell_type": "markdown",
   "id": "71c30e71",
   "metadata": {},
   "source": [
    "####  요소 개수 세기"
   ]
  },
  {
   "cell_type": "code",
   "execution_count": 18,
   "id": "c1fa8f44",
   "metadata": {},
   "outputs": [
    {
     "data": {
      "text/plain": [
       "8"
      ]
     },
     "execution_count": 18,
     "metadata": {},
     "output_type": "execute_result"
    }
   ],
   "source": [
    "# 6보다 작은 개수는?\n",
    "np.count_nonzero(x<6)"
   ]
  },
  {
   "cell_type": "code",
   "execution_count": 19,
   "id": "e58d7546",
   "metadata": {},
   "outputs": [
    {
     "data": {
      "text/plain": [
       "True"
      ]
     },
     "execution_count": 19,
     "metadata": {},
     "output_type": "execute_result"
    }
   ],
   "source": [
    "np.any(x>8)"
   ]
  },
  {
   "cell_type": "code",
   "execution_count": 20,
   "id": "9caac335",
   "metadata": {},
   "outputs": [
    {
     "data": {
      "text/plain": [
       "False"
      ]
     },
     "execution_count": 20,
     "metadata": {},
     "output_type": "execute_result"
    }
   ],
   "source": [
    "np.all(x<8)"
   ]
  },
  {
   "cell_type": "code",
   "execution_count": 21,
   "id": "62431782",
   "metadata": {},
   "outputs": [
    {
     "data": {
      "text/plain": [
       "array([ True, False,  True])"
      ]
     },
     "execution_count": 21,
     "metadata": {},
     "output_type": "execute_result"
    }
   ],
   "source": [
    "# 각 행의 모든 값이 8보다 작은가?\n",
    "np.all(x<8, axis=1)\n"
   ]
  },
  {
   "cell_type": "code",
   "execution_count": 23,
   "id": "2c8ec1fb",
   "metadata": {},
   "outputs": [
    {
     "data": {
      "text/plain": [
       "array([ True, False,  True,  True])"
      ]
     },
     "execution_count": 23,
     "metadata": {},
     "output_type": "execute_result"
    }
   ],
   "source": [
    "# 각 열의 모든 값이 8보다 작은가?\n",
    "np.all(x<8, axis=0)"
   ]
  },
  {
   "cell_type": "markdown",
   "id": "344bf408",
   "metadata": {},
   "source": [
    "### 부울 연산자"
   ]
  },
  {
   "cell_type": "code",
   "execution_count": 26,
   "id": "b9c72c32",
   "metadata": {},
   "outputs": [
    {
     "data": {
      "text/plain": [
       "29"
      ]
     },
     "execution_count": 26,
     "metadata": {},
     "output_type": "execute_result"
    }
   ],
   "source": [
    "# 비가 1인치보다 적게 내린 날이나, 0.5인치보다 많이 내린 날은??\n",
    "np.sum((inches>0.5) & (inches<1))"
   ]
  },
  {
   "cell_type": "code",
   "execution_count": 28,
   "id": "ef9ff5d8",
   "metadata": {},
   "outputs": [
    {
     "name": "stdout",
     "output_type": "stream",
     "text": [
      "Number days without rain 215\n",
      "Number days with rain 150\n",
      "Days with more than 0.5 inches 37\n",
      "Rainy days with less than 0.2 inches 75\n"
     ]
    }
   ],
   "source": [
    "print(\"Number days without rain\", np.sum(inches==0))\n",
    "print(\"Number days with rain\", np.sum(inches!=0))\n",
    "print(\"Days with more than 0.5 inches\", np.sum(inches>0.5))\n",
    "print(\"Rainy days with less than 0.2 inches\", np.sum((inches<0.2) &(inches>0)))"
   ]
  },
  {
   "cell_type": "markdown",
   "id": "9fb2f3b5",
   "metadata": {},
   "source": [
    "### 마스크로서의 부울 배열"
   ]
  },
  {
   "cell_type": "code",
   "execution_count": 32,
   "id": "a2347b74",
   "metadata": {},
   "outputs": [
    {
     "name": "stdout",
     "output_type": "stream",
     "text": [
      "[[5 0 3 3]\n",
      " [7 9 3 5]\n",
      " [2 4 7 6]]\n",
      "5보다 작은 원소들\n",
      "[0 3 3 3 2 4]\n"
     ]
    }
   ],
   "source": [
    "# 5보다 작은 원소만 가져오기\n",
    "print(x)\n",
    "print(\"5보다 작은 원소들\")\n",
    "print(x[x<5])"
   ]
  },
  {
   "cell_type": "code",
   "execution_count": 33,
   "id": "740ce43e",
   "metadata": {},
   "outputs": [
    {
     "name": "stdout",
     "output_type": "stream",
     "text": [
      "Median precip on rainy days in 2014(inches) : 0.19488188976377951\n",
      "Median precip on Summer days in 2014(inches) : 0.0\n",
      "Max precip on Summer days in 2014(inches) : 0.8503937007874016\n",
      "Median precip on non-Summer days in 2014(inches) : 0.20078740157480315\n"
     ]
    }
   ],
   "source": [
    "# 비가 온 날에 대한 마스크 생성\n",
    "rainy = (inches>0)\n",
    "\n",
    "# 여름에 해당하는 날에 대한 마스크 생성\n",
    "summer = (np.arange(365) - 172 <90) & (np.arange(365)-172>0)\n",
    "print(\"Median precip on rainy days in 2014(inches) :\", np.median(inches[rainy]))\n",
    "\n",
    "print(\"Median precip on Summer days in 2014(inches) :\", np.median(inches[summer]))\n",
    "\n",
    "print(\"Max precip on Summer days in 2014(inches) :\", np.max(inches[summer]))\n",
    "\n",
    "print(\"Median precip on non-Summer days in 2014(inches) :\", np.median(inches[rainy & ~summer]))\n",
    "\n",
    "\n"
   ]
  },
  {
   "cell_type": "code",
   "execution_count": null,
   "id": "3849bd24",
   "metadata": {},
   "outputs": [],
   "source": []
  }
 ],
 "metadata": {
  "kernelspec": {
   "display_name": "Python 3",
   "language": "python",
   "name": "python3"
  },
  "language_info": {
   "codemirror_mode": {
    "name": "ipython",
    "version": 3
   },
   "file_extension": ".py",
   "mimetype": "text/x-python",
   "name": "python",
   "nbconvert_exporter": "python",
   "pygments_lexer": "ipython3",
   "version": "3.7.3"
  }
 },
 "nbformat": 4,
 "nbformat_minor": 5
}
