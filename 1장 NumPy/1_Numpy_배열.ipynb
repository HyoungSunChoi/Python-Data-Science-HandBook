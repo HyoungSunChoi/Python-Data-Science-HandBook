{
  "nbformat": 4,
  "nbformat_minor": 0,
  "metadata": {
    "colab": {
      "name": "1. Numpy 배열.ipynb",
      "provenance": [],
      "collapsed_sections": [],
      "toc_visible": true
    },
    "kernelspec": {
      "name": "python3",
      "display_name": "Python 3"
    },
    "language_info": {
      "name": "python"
    }
  },
  "cells": [
    {
      "cell_type": "markdown",
      "metadata": {
        "id": "Poicn6OXH8rs"
      },
      "source": [
        "Numpy 배열 속성 지정"
      ]
    },
    {
      "cell_type": "code",
      "metadata": {
        "id": "UcOghhYwF4Jm"
      },
      "source": [
        "import numpy as np\n",
        "np.random.seed(0) # 재현 가능성을 위한 시드 값\n",
        "\n",
        "x1 = np.random.randint(10, size=6) # 1차원의 배열\n",
        "x2 = np.random.randint(10, size=(3,4)) # 2차원 배열\n",
        "x3 = np.random.randint(10, size=(3,4,5)) # 3차원 배열"
      ],
      "execution_count": 19,
      "outputs": []
    },
    {
      "cell_type": "markdown",
      "metadata": {
        "id": "LEWEzZhq0BzS"
      },
      "source": [
        "각 배열은 속성으로 ndim(차원의 개수), shape(각 차원의 크기), size(전체 배열 크기)를 가지고 있다."
      ]
    },
    {
      "cell_type": "code",
      "metadata": {
        "colab": {
          "base_uri": "https://localhost:8080/"
        },
        "id": "BWXQ5drX0GjW",
        "outputId": "1ce48985-44dc-4892-ad38-740ee906bda3"
      },
      "source": [
        "print(\"x3 ndim:\", x3.ndim)\n",
        "print(\"x3 shape\", x3.shape)\n",
        "print(\"x3 size \", x3.size)\n",
        "print(\"x3 dtype\", x3.dtype)\n",
        "print(\"itemsize\", x3.itemsize)\n",
        "print(\"nbytes = itemsize * size\")\n",
        "print(\"nbytes\", x3.nbytes)"
      ],
      "execution_count": 7,
      "outputs": [
        {
          "output_type": "stream",
          "text": [
            "x3 ndim: 3\n",
            "x3 shape (3, 4, 5)\n",
            "x3 size  60\n",
            "x3 dtype int64\n",
            "itemsize 8\n",
            "nbytes = itemsize * size\n",
            "nbytes 480\n"
          ],
          "name": "stdout"
        }
      ]
    },
    {
      "cell_type": "markdown",
      "metadata": {
        "id": "jJmHvU6s0n8y"
      },
      "source": [
        "배열 인덱싱 : 단일 요소에 접근하기"
      ]
    },
    {
      "cell_type": "code",
      "metadata": {
        "colab": {
          "base_uri": "https://localhost:8080/"
        },
        "id": "N4U6N5ws0SVy",
        "outputId": "b5791c71-ecc9-497e-d78c-aafdb0e4d913"
      },
      "source": [
        "print(x1)\n",
        "print(x1[0])\n",
        "print(x1[4])\n",
        "print(x1[-1])\n",
        "print(x1[-2])"
      ],
      "execution_count": 10,
      "outputs": [
        {
          "output_type": "stream",
          "text": [
            "[5 0 3 3 7 9]\n",
            "5\n",
            "7\n",
            "9\n",
            "7\n"
          ],
          "name": "stdout"
        }
      ]
    },
    {
      "cell_type": "code",
      "metadata": {
        "colab": {
          "base_uri": "https://localhost:8080/"
        },
        "id": "boGER7jd0ttI",
        "outputId": "04263af8-e10b-4957-983d-25d7687875c9"
      },
      "source": [
        "print(x2)\n",
        "# 2차원 Data 호출 방법\n",
        "print(x2[0][0])\n",
        "print(x2[0,0])\n",
        "\n",
        "print(x2[2,-3:])"
      ],
      "execution_count": 14,
      "outputs": [
        {
          "output_type": "stream",
          "text": [
            "[[3 5 2 4]\n",
            " [7 6 8 8]\n",
            " [1 6 7 7]]\n",
            "3\n",
            "3\n",
            "[6 7 7]\n"
          ],
          "name": "stdout"
        }
      ]
    },
    {
      "cell_type": "markdown",
      "metadata": {
        "id": "XY_666zQ1KdB"
      },
      "source": [
        "Numpy 는 파이썬과 다르게 고정 타입을 가진다.\n",
        "- 정수배열에 부동 소수점을 입력하면 정수type 으로 변환시킨다."
      ]
    },
    {
      "cell_type": "code",
      "metadata": {
        "colab": {
          "base_uri": "https://localhost:8080/"
        },
        "id": "dmKnWzw10wGC",
        "outputId": "9b4133d8-9a5c-4ca7-c6a4-b2a0dbf364fc"
      },
      "source": [
        "print(x3)\n",
        "x3[0,0,0]=311.141592\n",
        "print()\n",
        "print(x3)"
      ],
      "execution_count": 20,
      "outputs": [
        {
          "output_type": "stream",
          "text": [
            "[[[8 1 5 9 8]\n",
            "  [9 4 3 0 3]\n",
            "  [5 0 2 3 8]\n",
            "  [1 3 3 3 7]]\n",
            "\n",
            " [[0 1 9 9 0]\n",
            "  [4 7 3 2 7]\n",
            "  [2 0 0 4 5]\n",
            "  [5 6 8 4 1]]\n",
            "\n",
            " [[4 9 8 1 1]\n",
            "  [7 9 9 3 6]\n",
            "  [7 2 0 3 5]\n",
            "  [9 4 4 6 4]]]\n",
            "\n",
            "[[[311   1   5   9   8]\n",
            "  [  9   4   3   0   3]\n",
            "  [  5   0   2   3   8]\n",
            "  [  1   3   3   3   7]]\n",
            "\n",
            " [[  0   1   9   9   0]\n",
            "  [  4   7   3   2   7]\n",
            "  [  2   0   0   4   5]\n",
            "  [  5   6   8   4   1]]\n",
            "\n",
            " [[  4   9   8   1   1]\n",
            "  [  7   9   9   3   6]\n",
            "  [  7   2   0   3   5]\n",
            "  [  9   4   4   6   4]]]\n"
          ],
          "name": "stdout"
        }
      ]
    },
    {
      "cell_type": "markdown",
      "metadata": {
        "id": "acJAAuzi1KEC"
      },
      "source": [
        "# 배열 슬라이싱 : 하위 배열에 접근하기\n",
        "\n",
        "x[start:stop:step]"
      ]
    },
    {
      "cell_type": "markdown",
      "metadata": {
        "id": "Dcgh9Kw52EHv"
      },
      "source": [
        "### 1차원 하위 배열"
      ]
    },
    {
      "cell_type": "code",
      "metadata": {
        "colab": {
          "base_uri": "https://localhost:8080/"
        },
        "id": "pdOq_xDK2Lbu",
        "outputId": "18d26c3d-b24f-4180-b971-dcb0ae76b092"
      },
      "source": [
        "x= np.arange(10)\n",
        "print(x)\n",
        "\n",
        "# 첫 5개 요소\n",
        "print(x[:5])\n",
        "\n",
        "# 인덱스 5 다음 요소들\n",
        "print(x[5:])\n",
        "\n",
        "# 중간 하위 배열\n",
        "print(x[4:7])\n",
        "\n",
        "# 하나 걸러 하나씩 구성\n",
        "print(x[::2])\n",
        "\n",
        "# 인덱스 1에서 시작해 하나 걸러 하나씩\n",
        "print(x[1::2])\n",
        "\n",
        "print(\"음수인 경우\")\n",
        "# 배열을 거꾸로 나열\n",
        "print(x[::-1])\n",
        "\n",
        "# 인덱스 5부터 하나 걸러 하나씩 거꾸로 나열\n",
        "print(x[5::-2])\n"
      ],
      "execution_count": 22,
      "outputs": [
        {
          "output_type": "stream",
          "text": [
            "[0 1 2 3 4 5 6 7 8 9]\n",
            "[0 1 2 3 4]\n",
            "[5 6 7 8 9]\n",
            "[4 5 6]\n",
            "[0 2 4 6 8]\n",
            "[1 3 5 7 9]\n",
            "음수인 경우\n",
            "[9 8 7 6 5 4 3 2 1 0]\n",
            "[5 3 1]\n"
          ],
          "name": "stdout"
        }
      ]
    },
    {
      "cell_type": "markdown",
      "metadata": {
        "id": "eZG4qwlK1Jf6"
      },
      "source": [
        "### 다차원 하위 배열"
      ]
    },
    {
      "cell_type": "code",
      "metadata": {
        "colab": {
          "base_uri": "https://localhost:8080/"
        },
        "id": "GYes3Zdl25Un",
        "outputId": "5c73a3bd-be0c-433d-b5bd-7af0449809c7"
      },
      "source": [
        "print(x2)"
      ],
      "execution_count": 23,
      "outputs": [
        {
          "output_type": "stream",
          "text": [
            "[[3 5 2 4]\n",
            " [7 6 8 8]\n",
            " [1 6 7 7]]\n"
          ],
          "name": "stdout"
        }
      ]
    },
    {
      "cell_type": "code",
      "metadata": {
        "colab": {
          "base_uri": "https://localhost:8080/"
        },
        "id": "ZSHlAubu26AY",
        "outputId": "e01952e5-a0a2-4727-9d98-e2789d68f849"
      },
      "source": [
        "x2[:2, :3]"
      ],
      "execution_count": 24,
      "outputs": [
        {
          "output_type": "execute_result",
          "data": {
            "text/plain": [
              "array([[3, 5, 2],\n",
              "       [7, 6, 8]])"
            ]
          },
          "metadata": {
            "tags": []
          },
          "execution_count": 24
        }
      ]
    },
    {
      "cell_type": "code",
      "metadata": {
        "colab": {
          "base_uri": "https://localhost:8080/"
        },
        "id": "_MFl_6Rm28L2",
        "outputId": "78dee223-330f-4abe-b010-9ba4b64a2fd8"
      },
      "source": [
        "# 3개행, 2개 열\n",
        "x2[:3, :2]"
      ],
      "execution_count": 26,
      "outputs": [
        {
          "output_type": "execute_result",
          "data": {
            "text/plain": [
              "array([[3, 5],\n",
              "       [7, 6],\n",
              "       [1, 6]])"
            ]
          },
          "metadata": {
            "tags": []
          },
          "execution_count": 26
        }
      ]
    },
    {
      "cell_type": "code",
      "metadata": {
        "colab": {
          "base_uri": "https://localhost:8080/"
        },
        "id": "YjLXFd5N3AKT",
        "outputId": "cb1fb767-71ef-4092-a16d-ac97745035c5"
      },
      "source": [
        "x2[ ::-1, ::-1]"
      ],
      "execution_count": 27,
      "outputs": [
        {
          "output_type": "execute_result",
          "data": {
            "text/plain": [
              "array([[7, 7, 6, 1],\n",
              "       [8, 8, 6, 7],\n",
              "       [4, 2, 5, 3]])"
            ]
          },
          "metadata": {
            "tags": []
          },
          "execution_count": 27
        }
      ]
    },
    {
      "cell_type": "markdown",
      "metadata": {
        "id": "eBkF5Nq53E5M"
      },
      "source": [
        "### 배열 슬라이스는 뷰를 반환한다.\n",
        "- 데이터 변경 시 주의할 것\n",
        "- 원본을 변경하고 싶지 않을 때는 copy() 메서드 활용"
      ]
    },
    {
      "cell_type": "code",
      "metadata": {
        "colab": {
          "base_uri": "https://localhost:8080/"
        },
        "id": "7NNS6eEk3U-8",
        "outputId": "55524828-cbfe-404e-b54c-cdaaa18777e8"
      },
      "source": [
        "print(x2)\n",
        "x2_sub= x2[:2,:2]\n",
        "x2_sub[0,0]=96\n",
        "print(\"원본이 바뀐것을 확인할 수 있다\")\n",
        "print(x2_sub)\n",
        "print(x2)"
      ],
      "execution_count": 35,
      "outputs": [
        {
          "output_type": "stream",
          "text": [
            "[[96  5  2  4]\n",
            " [ 7  6  8  8]\n",
            " [ 1  6  7  7]]\n",
            "원본이 바뀐것을 확인할 수 있다\n",
            "[[96  5]\n",
            " [ 7  6]]\n",
            "[[96  5  2  4]\n",
            " [ 7  6  8  8]\n",
            " [ 1  6  7  7]]\n"
          ],
          "name": "stdout"
        }
      ]
    },
    {
      "cell_type": "code",
      "metadata": {
        "colab": {
          "base_uri": "https://localhost:8080/"
        },
        "id": "DUUDmLHZ3d7v",
        "outputId": "7447a728-8a31-4bdb-8a68-7eeb51bf9a21"
      },
      "source": [
        "# copy() 메서드\n",
        "x2_sub_copy=x2[:2, :2].copy()\n",
        "print(x2_sub_copy)\n",
        "x2_sub_copy[0,0] = 0\n",
        "print(\"원본이 바뀌지 않는다\")\n",
        "print(x2_sub_copy)\n",
        "print(x2)"
      ],
      "execution_count": 38,
      "outputs": [
        {
          "output_type": "stream",
          "text": [
            "[[96  5]\n",
            " [ 7  6]]\n",
            "원본이 바뀌지 않는다\n",
            "[[0 5]\n",
            " [7 6]]\n",
            "[[96  5  2  4]\n",
            " [ 7  6  8  8]\n",
            " [ 1  6  7  7]]\n"
          ],
          "name": "stdout"
        }
      ]
    },
    {
      "cell_type": "markdown",
      "metadata": {
        "id": "AION24Tj39Xd"
      },
      "source": [
        "### 배열 재구조화\n",
        "- reshape() 메서드 활용\n",
        "- 변경 전,후 배열의 규모가 일치해야한다."
      ]
    },
    {
      "cell_type": "code",
      "metadata": {
        "colab": {
          "base_uri": "https://localhost:8080/"
        },
        "id": "9b3oUugm4Sx-",
        "outputId": "139fdc55-93d1-4b6f-b577-4759c66e7fa1"
      },
      "source": [
        "grid = np.arange(1,10).reshape((3,3))\n",
        "grid"
      ],
      "execution_count": 40,
      "outputs": [
        {
          "output_type": "execute_result",
          "data": {
            "text/plain": [
              "array([[1, 2, 3],\n",
              "       [4, 5, 6],\n",
              "       [7, 8, 9]])"
            ]
          },
          "metadata": {
            "tags": []
          },
          "execution_count": 40
        }
      ]
    },
    {
      "cell_type": "markdown",
      "metadata": {
        "id": "LfovN3Fe44lf"
      },
      "source": [
        "### 배열 연결 및 분할"
      ]
    },
    {
      "cell_type": "markdown",
      "metadata": {
        "id": "lT0hMzEx5IKC"
      },
      "source": [
        "#### 배열 연결\n",
        "\n"
      ]
    },
    {
      "cell_type": "markdown",
      "metadata": {
        "id": "-uGmLN5s6ovY"
      },
      "source": [
        "##### np.concatenate"
      ]
    },
    {
      "cell_type": "code",
      "metadata": {
        "colab": {
          "base_uri": "https://localhost:8080/"
        },
        "id": "cfkUmYht5Nqd",
        "outputId": "1a606652-27be-47ff-e75d-3f4cf730029b"
      },
      "source": [
        "x= np.array([1,2,3])\n",
        "y=np.array([3,2,1])\n",
        "np.concatenate([x,y])\n"
      ],
      "execution_count": 44,
      "outputs": [
        {
          "output_type": "execute_result",
          "data": {
            "text/plain": [
              "array([1, 2, 3, 3, 2, 1])"
            ]
          },
          "metadata": {
            "tags": []
          },
          "execution_count": 44
        }
      ]
    },
    {
      "cell_type": "code",
      "metadata": {
        "colab": {
          "base_uri": "https://localhost:8080/"
        },
        "id": "_9vGULjV5Te1",
        "outputId": "43e77f6c-8842-47cb-ab1f-613524a3f206"
      },
      "source": [
        "# 한번에 여러배열 연결\n",
        "z=[99,99,99]\n",
        "np.concatenate([x,y,z])"
      ],
      "execution_count": 46,
      "outputs": [
        {
          "output_type": "execute_result",
          "data": {
            "text/plain": [
              "array([ 1,  2,  3,  3,  2,  1, 99, 99, 99])"
            ]
          },
          "metadata": {
            "tags": []
          },
          "execution_count": 46
        }
      ]
    },
    {
      "cell_type": "code",
      "metadata": {
        "colab": {
          "base_uri": "https://localhost:8080/"
        },
        "id": "EuRHIZlV5ah8",
        "outputId": "1f045cd7-df81-445a-c5c6-77ebd5aa2a8b"
      },
      "source": [
        "# 2차원 배열에서의 연결\n",
        "grid = np.array([[1,2,3],\n",
        "                 [4,5,6]])\n",
        "print(np.concatenate([grid,grid]))\n",
        "\n",
        "# 두번째 축을 따라 연결\n",
        "print(np.concatenate([grid,grid],axis=1))"
      ],
      "execution_count": 47,
      "outputs": [
        {
          "output_type": "stream",
          "text": [
            "[[1 2 3]\n",
            " [4 5 6]\n",
            " [1 2 3]\n",
            " [4 5 6]]\n",
            "[[1 2 3 1 2 3]\n",
            " [4 5 6 4 5 6]]\n"
          ],
          "name": "stdout"
        }
      ]
    },
    {
      "cell_type": "markdown",
      "metadata": {
        "id": "jI4Y4aU05tE-"
      },
      "source": [
        "##### np.hstack , np.vstack, \n",
        "  - 혼합된 차원의 배열로 작업할 때는 hstack(수직스택) 혹은 vstack(수평스택) 함수 사용이 더 명확하다"
      ]
    },
    {
      "cell_type": "code",
      "metadata": {
        "colab": {
          "base_uri": "https://localhost:8080/"
        },
        "id": "8WPuSLDc52jP",
        "outputId": "91958c0d-ccd7-4b84-9675-bc4e2525460b"
      },
      "source": [
        "x=np.array([1,2,3])\n",
        "grid=np.array([[9,8,7],\n",
        "               [6,5,4]])\n",
        "np.vstack([x,grid])"
      ],
      "execution_count": 48,
      "outputs": [
        {
          "output_type": "execute_result",
          "data": {
            "text/plain": [
              "array([[1, 2, 3],\n",
              "       [9, 8, 7],\n",
              "       [6, 5, 4]])"
            ]
          },
          "metadata": {
            "tags": []
          },
          "execution_count": 48
        }
      ]
    },
    {
      "cell_type": "code",
      "metadata": {
        "colab": {
          "base_uri": "https://localhost:8080/"
        },
        "id": "GuPNTmjw6Nj2",
        "outputId": "4414a907-ba74-4093-9bf3-a4471ef6a9d8"
      },
      "source": [
        "y=np.array([[99],\n",
        "            [99]])\n",
        "np.hstack([grid,y])"
      ],
      "execution_count": 49,
      "outputs": [
        {
          "output_type": "execute_result",
          "data": {
            "text/plain": [
              "array([[ 9,  8,  7, 99],\n",
              "       [ 6,  5,  4, 99]])"
            ]
          },
          "metadata": {
            "tags": []
          },
          "execution_count": 49
        }
      ]
    },
    {
      "cell_type": "markdown",
      "metadata": {
        "id": "ZrmtuUM76XUB"
      },
      "source": [
        "#### 배열 분할"
      ]
    },
    {
      "cell_type": "markdown",
      "metadata": {
        "id": "qNiJkMb_6jH-"
      },
      "source": [
        "##### np.split"
      ]
    },
    {
      "cell_type": "code",
      "metadata": {
        "colab": {
          "base_uri": "https://localhost:8080/"
        },
        "id": "5KRbfUJ96zcC",
        "outputId": "8daf07c8-ab34-4364-95ac-8dba38f59b83"
      },
      "source": [
        "x=[1,2,3,99,99,3,2,1]\n",
        "x1,x2,x3 = np.split(x, [3,6])\n",
        "print(x1, x2 , x3)\n",
        "x1,x2,x3 = np.split(x, [3,5])\n",
        "print(x1, x2 , x3)"
      ],
      "execution_count": 62,
      "outputs": [
        {
          "output_type": "stream",
          "text": [
            "[1 2 3] [99 99  3] [2 1]\n",
            "[1 2 3] [99 99] [3 2 1]\n"
          ],
          "name": "stdout"
        }
      ]
    },
    {
      "cell_type": "markdown",
      "metadata": {
        "id": "0UH9Pg8-65Jy"
      },
      "source": [
        "##### np.hsplit, np.vsplit\n",
        "- N개의 분할점은 N+1개의 하위 배열을 만든다."
      ]
    },
    {
      "cell_type": "code",
      "metadata": {
        "colab": {
          "base_uri": "https://localhost:8080/"
        },
        "id": "znTJGglu7bco",
        "outputId": "edf99468-c54b-47f1-d6c4-f647f5415e3f"
      },
      "source": [
        "grid= np.arange(16).reshape(4,4)\n",
        "grid"
      ],
      "execution_count": 63,
      "outputs": [
        {
          "output_type": "execute_result",
          "data": {
            "text/plain": [
              "array([[ 0,  1,  2,  3],\n",
              "       [ 4,  5,  6,  7],\n",
              "       [ 8,  9, 10, 11],\n",
              "       [12, 13, 14, 15]])"
            ]
          },
          "metadata": {
            "tags": []
          },
          "execution_count": 63
        }
      ]
    },
    {
      "cell_type": "code",
      "metadata": {
        "colab": {
          "base_uri": "https://localhost:8080/"
        },
        "id": "rvnkITyK7eoW",
        "outputId": "120737a3-8265-4ac2-8853-ab8f46ab4829"
      },
      "source": [
        "upper, lower = np.vsplit(grid,[2])\n",
        "print(upper)\n",
        "print(lower)"
      ],
      "execution_count": 64,
      "outputs": [
        {
          "output_type": "stream",
          "text": [
            "[[0 1 2 3]\n",
            " [4 5 6 7]]\n",
            "[[ 8  9 10 11]\n",
            " [12 13 14 15]]\n"
          ],
          "name": "stdout"
        }
      ]
    },
    {
      "cell_type": "code",
      "metadata": {
        "colab": {
          "base_uri": "https://localhost:8080/"
        },
        "id": "o3EO3lQK7igY",
        "outputId": "eb3b7728-1027-496e-c12b-fd1c70e06b5e"
      },
      "source": [
        "left, right = np.hsplit(grid,[2])\n",
        "print(left)\n",
        "print(right)"
      ],
      "execution_count": 65,
      "outputs": [
        {
          "output_type": "stream",
          "text": [
            "[[ 0  1]\n",
            " [ 4  5]\n",
            " [ 8  9]\n",
            " [12 13]]\n",
            "[[ 2  3]\n",
            " [ 6  7]\n",
            " [10 11]\n",
            " [14 15]]\n"
          ],
          "name": "stdout"
        }
      ]
    },
    {
      "cell_type": "code",
      "metadata": {
        "id": "D2Pcz9DX7ocO"
      },
      "source": [
        ""
      ],
      "execution_count": null,
      "outputs": []
    }
  ]
}