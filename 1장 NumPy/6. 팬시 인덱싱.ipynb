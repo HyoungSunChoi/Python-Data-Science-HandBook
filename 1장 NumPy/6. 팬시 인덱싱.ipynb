{
 "cells": [
  {
   "cell_type": "markdown",
   "id": "da5df4b6",
   "metadata": {},
   "source": [
    "## 한 번에 여러 배열 요소에 접근하기 위해 인덱스의 배열을 전달하는 역할"
   ]
  },
  {
   "cell_type": "code",
   "execution_count": 1,
   "id": "aea8ba9c",
   "metadata": {},
   "outputs": [
    {
     "data": {
      "text/plain": [
       "array([51, 92, 14, 71, 60, 20, 82, 86, 74, 74])"
      ]
     },
     "execution_count": 1,
     "metadata": {},
     "output_type": "execute_result"
    }
   ],
   "source": [
    "import numpy as np\n",
    "rand = np.random.RandomState(42)\n",
    "x=rand.randint(100,size=10)\n",
    "x"
   ]
  },
  {
   "cell_type": "code",
   "execution_count": 2,
   "id": "5e96c8f9",
   "metadata": {},
   "outputs": [
    {
     "data": {
      "text/plain": [
       "[71, 86, 74]"
      ]
     },
     "execution_count": 2,
     "metadata": {},
     "output_type": "execute_result"
    }
   ],
   "source": [
    "[x[3], x[7],x[9]]"
   ]
  },
  {
   "cell_type": "code",
   "execution_count": 3,
   "id": "ee6f6e88",
   "metadata": {},
   "outputs": [
    {
     "data": {
      "text/plain": [
       "array([71, 86, 60])"
      ]
     },
     "execution_count": 3,
     "metadata": {},
     "output_type": "execute_result"
    }
   ],
   "source": [
    "ind = [3,7,4]\n",
    "x[ind]"
   ]
  },
  {
   "cell_type": "markdown",
   "id": "8d054491",
   "metadata": {},
   "source": [
    "아래처럼 배열의 차원 변경도 가능하다"
   ]
  },
  {
   "cell_type": "code",
   "execution_count": 5,
   "id": "bc67eefe",
   "metadata": {},
   "outputs": [
    {
     "data": {
      "text/plain": [
       "array([[71, 86],\n",
       "       [60, 20]])"
      ]
     },
     "execution_count": 5,
     "metadata": {},
     "output_type": "execute_result"
    }
   ],
   "source": [
    "ind = np.array([[3,7],\n",
    "               [4,5]])\n",
    "x[ind]"
   ]
  },
  {
   "cell_type": "code",
   "execution_count": 8,
   "id": "c2ba05c8",
   "metadata": {},
   "outputs": [
    {
     "data": {
      "text/plain": [
       "array([[ 0,  1,  2,  3],\n",
       "       [ 4,  5,  6,  7],\n",
       "       [ 8,  9, 10, 11]])"
      ]
     },
     "execution_count": 8,
     "metadata": {},
     "output_type": "execute_result"
    }
   ],
   "source": [
    "X = np.arange(12).reshape((3,4))\n",
    "X"
   ]
  },
  {
   "cell_type": "code",
   "execution_count": 9,
   "id": "013152b7",
   "metadata": {},
   "outputs": [
    {
     "data": {
      "text/plain": [
       "array([ 2,  5, 11])"
      ]
     },
     "execution_count": 9,
     "metadata": {},
     "output_type": "execute_result"
    }
   ],
   "source": [
    "row = np.array([0,1,2])\n",
    "col = np.array([2,1,3])\n",
    "X[row, col]"
   ]
  },
  {
   "cell_type": "markdown",
   "id": "04c150d2",
   "metadata": {},
   "source": [
    "### 결합 인덱싱"
   ]
  },
  {
   "cell_type": "code",
   "execution_count": 10,
   "id": "626be343",
   "metadata": {},
   "outputs": [
    {
     "data": {
      "text/plain": [
       "array([[ 0,  1,  2,  3],\n",
       "       [ 4,  5,  6,  7],\n",
       "       [ 8,  9, 10, 11]])"
      ]
     },
     "execution_count": 10,
     "metadata": {},
     "output_type": "execute_result"
    }
   ],
   "source": [
    "X"
   ]
  },
  {
   "cell_type": "code",
   "execution_count": 11,
   "id": "12197096",
   "metadata": {},
   "outputs": [
    {
     "data": {
      "text/plain": [
       "array([10,  8,  9])"
      ]
     },
     "execution_count": 11,
     "metadata": {},
     "output_type": "execute_result"
    }
   ],
   "source": [
    "X[2, [2,0,1]]"
   ]
  },
  {
   "cell_type": "code",
   "execution_count": 12,
   "id": "b7aa2a13",
   "metadata": {},
   "outputs": [
    {
     "data": {
      "text/plain": [
       "array([[ 6,  4,  5],\n",
       "       [10,  8,  9]])"
      ]
     },
     "execution_count": 12,
     "metadata": {},
     "output_type": "execute_result"
    }
   ],
   "source": [
    "X[1:, [2,0,1]]"
   ]
  },
  {
   "cell_type": "markdown",
   "id": "2f49cf53",
   "metadata": {},
   "source": [
    "팬시 인덱싱과 마스킹을 결합"
   ]
  },
  {
   "cell_type": "code",
   "execution_count": 13,
   "id": "ea704e7a",
   "metadata": {},
   "outputs": [
    {
     "data": {
      "text/plain": [
       "array([[ 0,  2],\n",
       "       [ 4,  6],\n",
       "       [ 8, 10]])"
      ]
     },
     "execution_count": 13,
     "metadata": {},
     "output_type": "execute_result"
    }
   ],
   "source": [
    "mask = np.array([1,0,1,0], dtype=bool)\n",
    "X[row[:, np.newaxis], mask]"
   ]
  },
  {
   "cell_type": "markdown",
   "id": "af0f199c",
   "metadata": {},
   "source": [
    "## 예제 : 임의의 점 선택하기"
   ]
  },
  {
   "cell_type": "code",
   "execution_count": 14,
   "id": "46961298",
   "metadata": {},
   "outputs": [
    {
     "data": {
      "text/plain": [
       "(100, 2)"
      ]
     },
     "execution_count": 14,
     "metadata": {},
     "output_type": "execute_result"
    }
   ],
   "source": [
    "mean = [0,0]\n",
    "cov = [[1,2],\n",
    "      [2,5]]\n",
    "X = rand.multivariate_normal(mean, cov, 100)\n",
    "X.shape"
   ]
  },
  {
   "cell_type": "code",
   "execution_count": 15,
   "id": "98533f65",
   "metadata": {},
   "outputs": [
    {
     "data": {
      "text/plain": [
       "<matplotlib.collections.PathCollection at 0x14808f08630>"
      ]
     },
     "execution_count": 15,
     "metadata": {},
     "output_type": "execute_result"
    },
    {
     "data": {
      "image/png": "[encoded data removed]",
      "text/plain": [
       "<Figure size 432x288 with 1 Axes>"
      ]
     },
     "metadata": {
      "needs_background": "light"
     },
     "output_type": "display_data"
    }
   ],
   "source": [
    "import matplotlib.pyplot as plt\n",
    "import seaborn\n",
    "plt.scatter(X[:, 0], X[:,1])"
   ]
  },
  {
   "cell_type": "markdown",
   "id": "224aa264",
   "metadata": {},
   "source": [
    "팬시 인덱싱으로 임의의 20개 선택"
   ]
  },
  {
   "cell_type": "code",
   "execution_count": 16,
   "id": "ab128043",
   "metadata": {},
   "outputs": [
    {
     "data": {
      "text/plain": [
       "array([49,  5, 27, 14, 50, 86, 37, 29,  3, 77, 33, 57,  2, 15, 16, 92, 45,\n",
       "        7, 31, 71])"
      ]
     },
     "execution_count": 16,
     "metadata": {},
     "output_type": "execute_result"
    }
   ],
   "source": [
    "indices = np.random.choice(X.shape[0], 20, replace=False)\n",
    "indices"
   ]
  },
  {
   "cell_type": "code",
   "execution_count": 17,
   "id": "35b35331",
   "metadata": {},
   "outputs": [
    {
     "data": {
      "text/plain": [
       "(20, 2)"
      ]
     },
     "execution_count": 17,
     "metadata": {},
     "output_type": "execute_result"
    }
   ],
   "source": [
    "selection = X[indices]\n",
    "selection.shape"
   ]
  },
  {
   "cell_type": "code",
   "execution_count": 25,
   "id": "e3fd1810",
   "metadata": {},
   "outputs": [
    {
     "data": {
      "text/plain": [
       "<matplotlib.collections.PathCollection at 0x1480b1ddc18>"
      ]
     },
     "execution_count": 25,
     "metadata": {},
     "output_type": "execute_result"
    },
    {
     "data": {
      "image/png": "[encoded data removed]",
      "text/plain": [
       "<Figure size 432x288 with 1 Axes>"
      ]
     },
     "metadata": {
      "needs_background": "light"
     },
     "output_type": "display_data"
    }
   ],
   "source": [
    "# 임의로 선택된 20개 확인하기\n",
    "plt.scatter(X[:,0], X[:, 1], alpha=0.3)\n",
    "plt.scatter(selection[:,0], selection[:,1], facecolor='red', s=10)"
   ]
  },
  {
   "cell_type": "code",
   "execution_count": null,
   "id": "936b2c19",
   "metadata": {},
   "outputs": [],
   "source": []
  }
 ],
 "metadata": {
  "kernelspec": {
   "display_name": "Python 3",
   "language": "python",
   "name": "python3"
  },
  "language_info": {
   "codemirror_mode": {
    "name": "ipython",
    "version": 3
   },
   "file_extension": ".py",
   "mimetype": "text/x-python",
   "name": "python",
   "nbconvert_exporter": "python",
   "pygments_lexer": "ipython3",
   "version": "3.7.3"
  }
 },
 "nbformat": 4,
 "nbformat_minor": 5
}
