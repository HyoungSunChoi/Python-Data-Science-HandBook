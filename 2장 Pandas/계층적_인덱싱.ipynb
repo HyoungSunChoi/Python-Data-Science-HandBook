{
  "nbformat": 4,
  "nbformat_minor": 0,
  "metadata": {
    "colab": {
      "name": "계층적 인덱싱.ipynb",
      "provenance": [],
      "collapsed_sections": []
    },
    "kernelspec": {
      "name": "python3",
      "display_name": "Python 3"
    },
    "language_info": {
      "name": "python"
    }
  },
  "cells": [
    {
      "cell_type": "markdown",
      "metadata": {
        "id": "HiXFsjNW9pso"
      },
      "source": [
        "Pandas 는 3차원, 4차원을 다루는 Panel , Panel4D 가 있지만, 계층적 인덱싱을 통해 1,2차원으로 표현할 수 있다"
      ]
    },
    {
      "cell_type": "code",
      "metadata": {
        "id": "etAE-BLb9gTy"
      },
      "source": [
        "import pandas as pd\n",
        "import numpy as np"
      ],
      "execution_count": 1,
      "outputs": []
    },
    {
      "cell_type": "code",
      "metadata": {
        "colab": {
          "base_uri": "https://localhost:8080/"
        },
        "id": "3GT_SuYT9y4k",
        "outputId": "35768298-bdd9-4231-f2e6-6f360dc00cfd"
      },
      "source": [
        "index = [('California', 2000), ('California', 2010),\n",
        "         ('NewYork',2000), ('NewYork',2000),\n",
        "         ('Texas', 2000), ('Texas',2010)]\n",
        "populations = [110, 120, \n",
        "               130, 140 ,\n",
        "               150, 160]\n",
        "pop = pd.Series(populations, index=index)\n",
        "pop"
      ],
      "execution_count": 8,
      "outputs": [
        {
          "output_type": "execute_result",
          "data": {
            "text/plain": [
              "(California, 2000)    110\n",
              "(California, 2010)    120\n",
              "(NewYork, 2000)       130\n",
              "(NewYork, 2000)       140\n",
              "(Texas, 2000)         150\n",
              "(Texas, 2010)         160\n",
              "dtype: int64"
            ]
          },
          "metadata": {
            "tags": []
          },
          "execution_count": 8
        }
      ]
    },
    {
      "cell_type": "markdown",
      "metadata": {
        "id": "CfTuFSZk-pEt"
      },
      "source": [
        "인덱싱의 비효율적 예시"
      ]
    },
    {
      "cell_type": "code",
      "metadata": {
        "colab": {
          "base_uri": "https://localhost:8080/"
        },
        "id": "sNaL3dBK99Hf",
        "outputId": "42bcc2b4-9ff6-4325-b92b-faaceab455a0"
      },
      "source": [
        "pop[[i for i in pop.index if i[1]==2010]]"
      ],
      "execution_count": 9,
      "outputs": [
        {
          "output_type": "execute_result",
          "data": {
            "text/plain": [
              "(California, 2010)    120\n",
              "(Texas, 2010)         160\n",
              "dtype: int64"
            ]
          },
          "metadata": {
            "tags": []
          },
          "execution_count": 9
        }
      ]
    },
    {
      "cell_type": "markdown",
      "metadata": {
        "id": "3T1xf9l5-PFl"
      },
      "source": [
        "인덱싱의 효율적 예시\n",
        "\n",
        "<b>Pandas MultiIndex</b>\n",
        "- Tuple 형태를 나눠주는 것을 확인@@@"
      ]
    },
    {
      "cell_type": "code",
      "metadata": {
        "colab": {
          "base_uri": "https://localhost:8080/"
        },
        "id": "AvwXnzHK-vpq",
        "outputId": "80ac1362-87b0-4730-e82b-6f028d57844a"
      },
      "source": [
        "index = pd.MultiIndex.from_tuples(index)\n",
        "index"
      ],
      "execution_count": 12,
      "outputs": [
        {
          "output_type": "execute_result",
          "data": {
            "text/plain": [
              "MultiIndex([('California', 2000),\n",
              "            ('California', 2010),\n",
              "            (   'NewYork', 2000),\n",
              "            (   'NewYork', 2000),\n",
              "            (     'Texas', 2000),\n",
              "            (     'Texas', 2010)],\n",
              "           )"
            ]
          },
          "metadata": {
            "tags": []
          },
          "execution_count": 12
        }
      ]
    },
    {
      "cell_type": "code",
      "metadata": {
        "colab": {
          "base_uri": "https://localhost:8080/"
        },
        "id": "6pUrOGF--05u",
        "outputId": "ef62f02f-cb1b-430f-d725-36fcfc090296"
      },
      "source": [
        "pop = pop.reindex(index)\n",
        "pop"
      ],
      "execution_count": 13,
      "outputs": [
        {
          "output_type": "execute_result",
          "data": {
            "text/plain": [
              "California  2000    110\n",
              "            2010    120\n",
              "NewYork     2000    130\n",
              "            2000    140\n",
              "Texas       2000    150\n",
              "            2010    160\n",
              "dtype: int64"
            ]
          },
          "metadata": {
            "tags": []
          },
          "execution_count": 13
        }
      ]
    },
    {
      "cell_type": "code",
      "metadata": {
        "colab": {
          "base_uri": "https://localhost:8080/"
        },
        "id": "Ep71yjzs_NsO",
        "outputId": "ed8634db-dc19-4f21-91dc-358d8e4e9742"
      },
      "source": [
        "# 두번째 인덱스가 2010인 모든 데이터에 접근하려면\n",
        "pop[:,2010]"
      ],
      "execution_count": 15,
      "outputs": [
        {
          "output_type": "execute_result",
          "data": {
            "text/plain": [
              "California    120\n",
              "Texas         160\n",
              "dtype: int64"
            ]
          },
          "metadata": {
            "tags": []
          },
          "execution_count": 15
        }
      ]
    },
    {
      "cell_type": "code",
      "metadata": {
        "colab": {
          "base_uri": "https://localhost:8080/",
          "height": 232
        },
        "id": "sz_fnuvt_Z_3",
        "outputId": "32ac9d12-8ba7-40dc-f104-9d6e7aa0a0c2"
      },
      "source": [
        "# 열 추가하기\n",
        "pop_df = pd.DataFrame({'total':pop,\n",
        "                       'under18': [ 1, 2,\n",
        "                                   3, 4,\n",
        "                                   5, 6]})\n",
        "pop_df"
      ],
      "execution_count": 17,
      "outputs": [
        {
          "output_type": "execute_result",
          "data": {
            "text/html": [
              "<div>\n",
              "<style scoped>\n",
              "    .dataframe tbody tr th:only-of-type {\n",
              "        vertical-align: middle;\n",
              "    }\n",
              "\n",
              "    .dataframe tbody tr th {\n",
              "        vertical-align: top;\n",
              "    }\n",
              "\n",
              "    .dataframe thead th {\n",
              "        text-align: right;\n",
              "    }\n",
              "</style>\n",
              "<table border=\"1\" class=\"dataframe\">\n",
              "  <thead>\n",
              "    <tr style=\"text-align: right;\">\n",
              "      <th></th>\n",
              "      <th></th>\n",
              "      <th>total</th>\n",
              "      <th>under18</th>\n",
              "    </tr>\n",
              "  </thead>\n",
              "  <tbody>\n",
              "    <tr>\n",
              "      <th rowspan=\"2\" valign=\"top\">California</th>\n",
              "      <th>2000</th>\n",
              "      <td>110</td>\n",
              "      <td>1</td>\n",
              "    </tr>\n",
              "    <tr>\n",
              "      <th>2010</th>\n",
              "      <td>120</td>\n",
              "      <td>2</td>\n",
              "    </tr>\n",
              "    <tr>\n",
              "      <th rowspan=\"2\" valign=\"top\">NewYork</th>\n",
              "      <th>2000</th>\n",
              "      <td>130</td>\n",
              "      <td>3</td>\n",
              "    </tr>\n",
              "    <tr>\n",
              "      <th>2000</th>\n",
              "      <td>140</td>\n",
              "      <td>4</td>\n",
              "    </tr>\n",
              "    <tr>\n",
              "      <th rowspan=\"2\" valign=\"top\">Texas</th>\n",
              "      <th>2000</th>\n",
              "      <td>150</td>\n",
              "      <td>5</td>\n",
              "    </tr>\n",
              "    <tr>\n",
              "      <th>2010</th>\n",
              "      <td>160</td>\n",
              "      <td>6</td>\n",
              "    </tr>\n",
              "  </tbody>\n",
              "</table>\n",
              "</div>"
            ],
            "text/plain": [
              "                 total  under18\n",
              "California 2000    110        1\n",
              "           2010    120        2\n",
              "NewYork    2000    130        3\n",
              "           2000    140        4\n",
              "Texas      2000    150        5\n",
              "           2010    160        6"
            ]
          },
          "metadata": {
            "tags": []
          },
          "execution_count": 17
        }
      ]
    },
    {
      "cell_type": "markdown",
      "metadata": {
        "id": "Nsx0n4AqAgdV"
      },
      "source": [
        "Multi Index 생성 메서드\n",
        "- 생성자에 2개 이상의 인덱스 배열 리스트를 전달하는 것!!!"
      ]
    },
    {
      "cell_type": "code",
      "metadata": {
        "colab": {
          "base_uri": "https://localhost:8080/",
          "height": 171
        },
        "id": "dfVlqPPsAl9x",
        "outputId": "909b29bb-8c4a-4de4-abb9-e31c2601bdc2"
      },
      "source": [
        "df = pd.DataFrame(np.random.rand(4,2),\n",
        "                  index = [['a','a','b','b'], [1,2,1,2]],\n",
        "                  columns=['data1','data2'])\n",
        "df\n"
      ],
      "execution_count": 19,
      "outputs": [
        {
          "output_type": "execute_result",
          "data": {
            "text/html": [
              "<div>\n",
              "<style scoped>\n",
              "    .dataframe tbody tr th:only-of-type {\n",
              "        vertical-align: middle;\n",
              "    }\n",
              "\n",
              "    .dataframe tbody tr th {\n",
              "        vertical-align: top;\n",
              "    }\n",
              "\n",
              "    .dataframe thead th {\n",
              "        text-align: right;\n",
              "    }\n",
              "</style>\n",
              "<table border=\"1\" class=\"dataframe\">\n",
              "  <thead>\n",
              "    <tr style=\"text-align: right;\">\n",
              "      <th></th>\n",
              "      <th></th>\n",
              "      <th>data1</th>\n",
              "      <th>data2</th>\n",
              "    </tr>\n",
              "  </thead>\n",
              "  <tbody>\n",
              "    <tr>\n",
              "      <th rowspan=\"2\" valign=\"top\">a</th>\n",
              "      <th>1</th>\n",
              "      <td>0.893739</td>\n",
              "      <td>0.438747</td>\n",
              "    </tr>\n",
              "    <tr>\n",
              "      <th>2</th>\n",
              "      <td>0.905438</td>\n",
              "      <td>0.924871</td>\n",
              "    </tr>\n",
              "    <tr>\n",
              "      <th rowspan=\"2\" valign=\"top\">b</th>\n",
              "      <th>1</th>\n",
              "      <td>0.939831</td>\n",
              "      <td>0.092994</td>\n",
              "    </tr>\n",
              "    <tr>\n",
              "      <th>2</th>\n",
              "      <td>0.328136</td>\n",
              "      <td>0.854503</td>\n",
              "    </tr>\n",
              "  </tbody>\n",
              "</table>\n",
              "</div>"
            ],
            "text/plain": [
              "        data1     data2\n",
              "a 1  0.893739  0.438747\n",
              "  2  0.905438  0.924871\n",
              "b 1  0.939831  0.092994\n",
              "  2  0.328136  0.854503"
            ]
          },
          "metadata": {
            "tags": []
          },
          "execution_count": 19
        }
      ]
    },
    {
      "cell_type": "code",
      "metadata": {
        "colab": {
          "base_uri": "https://localhost:8080/"
        },
        "id": "Ge3gbP_UAzTj",
        "outputId": "fac8fea4-2e4e-499a-eef4-f185bb969e45"
      },
      "source": [
        "print(pd.MultiIndex.from_arrays([['a','a','b','b'],[1,2,1,2]]))\n",
        "print(pd.MultiIndex.from_tuples([('a',1),('a',2),('b',1),('b',2)]))"
      ],
      "execution_count": 23,
      "outputs": [
        {
          "output_type": "stream",
          "text": [
            "MultiIndex([('a', 1),\n",
            "            ('a', 2),\n",
            "            ('b', 1),\n",
            "            ('b', 2)],\n",
            "           )\n",
            "MultiIndex([('a', 1),\n",
            "            ('a', 2),\n",
            "            ('b', 1),\n",
            "            ('b', 2)],\n",
            "           )\n"
          ],
          "name": "stdout"
        }
      ]
    },
    {
      "cell_type": "markdown",
      "metadata": {
        "id": "S4nH_B16DrtP"
      },
      "source": [
        "MultiIndex 레벨 이름 지정하기"
      ]
    },
    {
      "cell_type": "code",
      "metadata": {
        "colab": {
          "base_uri": "https://localhost:8080/"
        },
        "id": "d8psVyMJD8lm",
        "outputId": "889f6281-c8e8-40e5-e555-b91e1fb9d9f2"
      },
      "source": [
        "pop.index.names = ['state','year']\n",
        "pop"
      ],
      "execution_count": 25,
      "outputs": [
        {
          "output_type": "execute_result",
          "data": {
            "text/plain": [
              "state       year\n",
              "California  2000    110\n",
              "            2010    120\n",
              "NewYork     2000    130\n",
              "            2000    140\n",
              "Texas       2000    150\n",
              "            2010    160\n",
              "dtype: int64"
            ]
          },
          "metadata": {
            "tags": []
          },
          "execution_count": 25
        }
      ]
    },
    {
      "cell_type": "code",
      "metadata": {
        "id": "urXnF6TCD-0f"
      },
      "source": [
        ""
      ],
      "execution_count": null,
      "outputs": []
    }
  ]
}